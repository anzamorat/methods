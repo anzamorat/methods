{
 "cells": [
  {
   "cell_type": "code",
   "execution_count": 2,
   "metadata": {},
   "outputs": [],
   "source": [
    "import numpy as np\n",
    "\n",
    "import astropy.constants as c\n",
    "import astropy.units as u\n",
    "\n",
    "import matplotlib.pyplot as plt\n",
    "%matplotlib inline"
   ]
  },
  {
   "cell_type": "markdown",
   "metadata": {},
   "source": [
    "# ex:"
   ]
  },
  {
   "cell_type": "code",
   "execution_count": 3,
   "metadata": {},
   "outputs": [],
   "source": [
    "e0=c.eps0.value\n",
    "r=0.1\n",
    "q=1"
   ]
  },
  {
   "cell_type": "code",
   "execution_count": 4,
   "metadata": {},
   "outputs": [],
   "source": [
    "def potential(q,r):\n",
    "    return (1/(4*np.pi*e0)*q/r)"
   ]
  },
  {
   "cell_type": "code",
   "execution_count": 5,
   "metadata": {},
   "outputs": [],
   "source": [
    "phi = (1/(4*np.pi*e0)*q/r)"
   ]
  },
  {
   "cell_type": "markdown",
   "metadata": {},
   "source": [
    "# distances:"
   ]
  },
  {
   "cell_type": "code",
   "execution_count": 150,
   "metadata": {},
   "outputs": [
    {
     "name": "stdout",
     "output_type": "stream",
     "text": [
      "0.7433034373659253 0.6726812023536856\n"
     ]
    }
   ],
   "source": [
    "N = 100\n",
    "#pot=np.zeros([N,N])\n",
    "x=np.linspace(-0.5,0.5,num=N)\n",
    "y=x\n",
    "\n",
    "xp=[0,0]\n",
    "yp=[-.05,.05] #why???#ask ari\n",
    "\n",
    "for i in range(N):\n",
    "    for j in range(N):\n",
    "        x_local=x[i]\n",
    "        y_local=y[j]\n",
    "        r1=np.sqrt((x[i]-xp[0])**2+(y[j]-yp[0])**2)\n",
    "        r2=np.sqrt((x[i]-xp[1])**2+(y[j]-yp[1])**2)\n",
    "        pot[i][j]=(1/(4*np.pi*e0)*(q/r1))+(1/(4*np.pi*e0)*(-q/r2))\n",
    "        \n",
    "print(r1,r2)"
   ]
  },
  {
   "cell_type": "markdown",
   "metadata": {},
   "source": [
    "# potential:"
   ]
  },
  {
   "cell_type": "code",
   "execution_count": 19,
   "metadata": {},
   "outputs": [
    {
     "name": "stdout",
     "output_type": "stream",
     "text": [
      "[[ 1.26942612e+09  1.28184551e+09  1.29380861e+09 ... -1.29380861e+09\n",
      "  -1.28184551e+09 -1.26942612e+09]\n",
      " [ 1.30861570e+09  1.32224281e+09  1.33543195e+09 ... -1.33543195e+09\n",
      "  -1.32224281e+09 -1.30861570e+09]\n",
      " [ 1.34900790e+09  1.36392370e+09  1.37842403e+09 ... -1.37842403e+09\n",
      "  -1.36392370e+09 -1.34900790e+09]\n",
      " ...\n",
      " [ 1.34900790e+09  1.36392370e+09  1.37842403e+09 ... -1.37842403e+09\n",
      "  -1.36392370e+09 -1.34900790e+09]\n",
      " [ 1.30861570e+09  1.32224281e+09  1.33543195e+09 ... -1.33543195e+09\n",
      "  -1.32224281e+09 -1.30861570e+09]\n",
      " [ 1.26942612e+09  1.28184551e+09  1.29380861e+09 ... -1.29380861e+09\n",
      "  -1.28184551e+09 -1.26942612e+09]]\n"
     ]
    }
   ],
   "source": [
    "N = 100\n",
    "pot=np.zeros([N,N])\n",
    "x=np.linspace(-0.5,0.5,num=N)\n",
    "y=x\n",
    "\n",
    "xp=[0,0]\n",
    "yp=[-.05,.05] #why???#ask ari\n",
    "\n",
    "for i in range(N):\n",
    "    for j in range(N):\n",
    "        x_local=x[i]\n",
    "        y_local=y[j]\n",
    "        r1=np.sqrt((x[i]-xp[0])**2+(y[j]-yp[0])**2)\n",
    "        r2=np.sqrt((x[i]-xp[1])**2+(y[j]-yp[1])**2)\n",
    "        pot[i][j]=(1/(4*np.pi*e0)*(q/r1))+(1/(4*np.pi*e0)*(-q/r2))\n",
    "        \n",
    "print(pot)"
   ]
  },
  {
   "cell_type": "markdown",
   "metadata": {},
   "source": [
    "# plot"
   ]
  },
  {
   "cell_type": "code",
   "execution_count": 145,
   "metadata": {
    "scrolled": true
   },
   "outputs": [
    {
     "data": {
      "image/png": "[encoded data removed]",
      "text/plain": [
       "<Figure size 432x288 with 1 Axes>"
      ]
     },
     "metadata": {
      "needs_background": "light"
     },
     "output_type": "display_data"
    }
   ],
   "source": [
    "map=plt.imshow(pot)\n",
    "plt.title(\"charges\", size=15)\n",
    "map.set_cmap(\"inferno\")"
   ]
  },
  {
   "cell_type": "code",
   "execution_count": 146,
   "metadata": {},
   "outputs": [
    {
     "data": {
      "image/png": "[encoded data removed]",
      "text/plain": [
       "<Figure size 432x288 with 1 Axes>"
      ]
     },
     "metadata": {
      "needs_background": "light"
     },
     "output_type": "display_data"
    }
   ],
   "source": [
    "t = np.transpose(pot)\n",
    "plt.title(\"potential beauty\", size=15)\n",
    "plt.plot(t);"
   ]
  },
  {
   "cell_type": "markdown",
   "metadata": {},
   "source": [
    "# central difference \n",
    "(f(x+h/2)-f(x-h/2))/h\n",
    "\n",
    "# use this!!!\n",
    "f(x+h)-f(x))/h\n",
    "\n",
    "\n",
    "f(y+h)-f(y))/h"
   ]
  },
  {
   "cell_type": "markdown",
   "metadata": {},
   "source": [
    "# vector components:"
   ]
  },
  {
   "cell_type": "code",
   "execution_count": 36,
   "metadata": {},
   "outputs": [
    {
     "name": "stdout",
     "output_type": "stream",
     "text": [
      "8207818824.54319 2681625568.7789917\n"
     ]
    }
   ],
   "source": [
    "#provides electric field\n",
    "\n",
    "h = 1/N\n",
    "\n",
    "dx = (pot[i+1][j] - pot[i-1][j])/h\n",
    "dy = (pot[i][j+1] - pot[i][j-1])/h\n",
    "\n",
    "print(dx,dy)"
   ]
  },
  {
   "cell_type": "code",
   "execution_count": 138,
   "metadata": {},
   "outputs": [
    {
     "data": {
      "text/plain": [
       "[<matplotlib.lines.Line2D at 0x254256abac8>,\n",
       " <matplotlib.lines.Line2D at 0x254256abc18>,\n",
       " <matplotlib.lines.Line2D at 0x254256abd68>,\n",
       " <matplotlib.lines.Line2D at 0x254256abeb8>,\n",
       " <matplotlib.lines.Line2D at 0x254256b1048>,\n",
       " <matplotlib.lines.Line2D at 0x254256b1198>,\n",
       " <matplotlib.lines.Line2D at 0x254256b12e8>,\n",
       " <matplotlib.lines.Line2D at 0x254256b1438>,\n",
       " <matplotlib.lines.Line2D at 0x254256b1588>,\n",
       " <matplotlib.lines.Line2D at 0x254256b16d8>,\n",
       " <matplotlib.lines.Line2D at 0x25425687668>,\n",
       " <matplotlib.lines.Line2D at 0x254256b1940>,\n",
       " <matplotlib.lines.Line2D at 0x254256b1a90>,\n",
       " <matplotlib.lines.Line2D at 0x254256b1be0>,\n",
       " <matplotlib.lines.Line2D at 0x254256b1d30>,\n",
       " <matplotlib.lines.Line2D at 0x254256b1e80>,\n",
       " <matplotlib.lines.Line2D at 0x254256b1fd0>,\n",
       " <matplotlib.lines.Line2D at 0x254256b5160>,\n",
       " <matplotlib.lines.Line2D at 0x254256b52b0>,\n",
       " <matplotlib.lines.Line2D at 0x254256b5400>,\n",
       " <matplotlib.lines.Line2D at 0x254256b5550>,\n",
       " <matplotlib.lines.Line2D at 0x254256b56a0>,\n",
       " <matplotlib.lines.Line2D at 0x254256b57f0>,\n",
       " <matplotlib.lines.Line2D at 0x254256b5940>,\n",
       " <matplotlib.lines.Line2D at 0x254256b5a90>,\n",
       " <matplotlib.lines.Line2D at 0x254256b5be0>,\n",
       " <matplotlib.lines.Line2D at 0x254256b5d30>,\n",
       " <matplotlib.lines.Line2D at 0x254256b5e80>,\n",
       " <matplotlib.lines.Line2D at 0x254256b5fd0>,\n",
       " <matplotlib.lines.Line2D at 0x254256b8160>,\n",
       " <matplotlib.lines.Line2D at 0x254250c03c8>,\n",
       " <matplotlib.lines.Line2D at 0x254256b8400>,\n",
       " <matplotlib.lines.Line2D at 0x254256b8550>,\n",
       " <matplotlib.lines.Line2D at 0x254256b86a0>,\n",
       " <matplotlib.lines.Line2D at 0x254256b87f0>,\n",
       " <matplotlib.lines.Line2D at 0x254256b8940>,\n",
       " <matplotlib.lines.Line2D at 0x254256b8a90>,\n",
       " <matplotlib.lines.Line2D at 0x254256b8be0>,\n",
       " <matplotlib.lines.Line2D at 0x254256b8d30>,\n",
       " <matplotlib.lines.Line2D at 0x254256b8e80>,\n",
       " <matplotlib.lines.Line2D at 0x254256b8fd0>,\n",
       " <matplotlib.lines.Line2D at 0x254256bb160>,\n",
       " <matplotlib.lines.Line2D at 0x254256bb2b0>,\n",
       " <matplotlib.lines.Line2D at 0x254256bb400>,\n",
       " <matplotlib.lines.Line2D at 0x254256bb550>,\n",
       " <matplotlib.lines.Line2D at 0x254256bb6a0>,\n",
       " <matplotlib.lines.Line2D at 0x254256bb7f0>,\n",
       " <matplotlib.lines.Line2D at 0x254256bb940>,\n",
       " <matplotlib.lines.Line2D at 0x254256bba90>,\n",
       " <matplotlib.lines.Line2D at 0x254256bbbe0>,\n",
       " <matplotlib.lines.Line2D at 0x254256bbd30>,\n",
       " <matplotlib.lines.Line2D at 0x254256bbe80>,\n",
       " <matplotlib.lines.Line2D at 0x254256bbfd0>,\n",
       " <matplotlib.lines.Line2D at 0x254256be160>,\n",
       " <matplotlib.lines.Line2D at 0x254256be2b0>,\n",
       " <matplotlib.lines.Line2D at 0x254256be400>,\n",
       " <matplotlib.lines.Line2D at 0x254256be550>,\n",
       " <matplotlib.lines.Line2D at 0x254256be6a0>,\n",
       " <matplotlib.lines.Line2D at 0x254256be7f0>,\n",
       " <matplotlib.lines.Line2D at 0x254256be940>,\n",
       " <matplotlib.lines.Line2D at 0x254256bea90>,\n",
       " <matplotlib.lines.Line2D at 0x254256bebe0>,\n",
       " <matplotlib.lines.Line2D at 0x254256bed30>,\n",
       " <matplotlib.lines.Line2D at 0x254256bee80>,\n",
       " <matplotlib.lines.Line2D at 0x254256befd0>,\n",
       " <matplotlib.lines.Line2D at 0x254256c1160>,\n",
       " <matplotlib.lines.Line2D at 0x254256c12b0>,\n",
       " <matplotlib.lines.Line2D at 0x254256c1400>,\n",
       " <matplotlib.lines.Line2D at 0x254256c1550>,\n",
       " <matplotlib.lines.Line2D at 0x254256c16a0>,\n",
       " <matplotlib.lines.Line2D at 0x254256c17f0>,\n",
       " <matplotlib.lines.Line2D at 0x254256c1940>,\n",
       " <matplotlib.lines.Line2D at 0x254256c1a90>,\n",
       " <matplotlib.lines.Line2D at 0x254256c1be0>,\n",
       " <matplotlib.lines.Line2D at 0x254256c1d30>,\n",
       " <matplotlib.lines.Line2D at 0x254256c1e80>,\n",
       " <matplotlib.lines.Line2D at 0x254256c1fd0>,\n",
       " <matplotlib.lines.Line2D at 0x254256c4160>,\n",
       " <matplotlib.lines.Line2D at 0x254256c42b0>,\n",
       " <matplotlib.lines.Line2D at 0x254256c4400>,\n",
       " <matplotlib.lines.Line2D at 0x254256c4550>,\n",
       " <matplotlib.lines.Line2D at 0x254256c46a0>,\n",
       " <matplotlib.lines.Line2D at 0x254256c47f0>,\n",
       " <matplotlib.lines.Line2D at 0x254256c4940>,\n",
       " <matplotlib.lines.Line2D at 0x254256c4a90>,\n",
       " <matplotlib.lines.Line2D at 0x254256c4be0>,\n",
       " <matplotlib.lines.Line2D at 0x254256c4d30>,\n",
       " <matplotlib.lines.Line2D at 0x254256c4e80>,\n",
       " <matplotlib.lines.Line2D at 0x254256c4fd0>,\n",
       " <matplotlib.lines.Line2D at 0x254256c7160>,\n",
       " <matplotlib.lines.Line2D at 0x254256c72b0>,\n",
       " <matplotlib.lines.Line2D at 0x254256c7400>,\n",
       " <matplotlib.lines.Line2D at 0x254256c7550>,\n",
       " <matplotlib.lines.Line2D at 0x254256c76a0>,\n",
       " <matplotlib.lines.Line2D at 0x254256c77f0>,\n",
       " <matplotlib.lines.Line2D at 0x254256c7940>,\n",
       " <matplotlib.lines.Line2D at 0x254256c7a90>,\n",
       " <matplotlib.lines.Line2D at 0x254256c7be0>,\n",
       " <matplotlib.lines.Line2D at 0x254256c7d30>,\n",
       " <matplotlib.lines.Line2D at 0x254256c7e80>]"
      ]
     },
     "execution_count": 138,
     "metadata": {},
     "output_type": "execute_result"
    },
    {
     "data": {
      "image/png": "[encoded data removed]",
      "text/plain": [
       "<Figure size 432x288 with 1 Axes>"
      ]
     },
     "metadata": {
      "needs_background": "light"
     },
     "output_type": "display_data"
    }
   ],
   "source": [
    "plt.plot(par1, par2)"
   ]
  },
  {
   "cell_type": "code",
   "execution_count": 149,
   "metadata": {},
   "outputs": [
    {
     "ename": "IndentationError",
     "evalue": "expected an indented block (<ipython-input-149-f81420ef8612>, line 3)",
     "output_type": "error",
     "traceback": [
      "\u001b[1;36m  File \u001b[1;32m\"<ipython-input-149-f81420ef8612>\"\u001b[1;36m, line \u001b[1;32m3\u001b[0m\n\u001b[1;33m    dx = (pot[i+1][j] - pot[i-1][j])/h\u001b[0m\n\u001b[1;37m     ^\u001b[0m\n\u001b[1;31mIndentationError\u001b[0m\u001b[1;31m:\u001b[0m expected an indented block\n"
     ]
    }
   ],
   "source": [
    "for i in range(N):\n",
    "    for j in range(N):\n",
    "    dx = (pot[i+1][j] - pot[i-1][j])/h\n",
    "    dy = (pot[i][j+1] - pot[i][j-1])/h\n",
    "    pot[i][j]=(1/(4*np.pi*e0)*(q/r1))+(1/(4*np.pi*e0)*(-q/r2))\n"
   ]
  },
  {
   "cell_type": "code",
   "execution_count": 148,
   "metadata": {
    "scrolled": true
   },
   "outputs": [
    {
     "data": {
      "text/plain": [
       "<matplotlib.patches.FancyArrow at 0x25426d571d0>"
      ]
     },
     "execution_count": 148,
     "metadata": {},
     "output_type": "execute_result"
    },
    {
     "data": {
      "image/png": "[encoded data removed]",
      "text/plain": [
       "<Figure size 432x288 with 1 Axes>"
      ]
     },
     "metadata": {
      "needs_background": "light"
     },
     "output_type": "display_data"
    }
   ],
   "source": [
    "plt.arrow(xp[0],yp[0],par1[i][j],par2[i][j])\n",
    "plt.arrow(xp[1],yp[1],par1[i][j],par2[i][j])"
   ]
  },
  {
   "cell_type": "markdown",
   "metadata": {},
   "source": [
    "### magnitude & direction:"
   ]
  },
  {
   "cell_type": "code",
   "execution_count": 54,
   "metadata": {},
   "outputs": [],
   "source": [
    "m=np.sqrt(dx**2+dx**2)\n",
    "D=np.arctan(dy/dx)"
   ]
  }
 ],
 "metadata": {
  "kernelspec": {
   "display_name": "Python 3",
   "language": "python",
   "name": "python3"
  },
  "language_info": {
   "codemirror_mode": {
    "name": "ipython",
    "version": 3
   },
   "file_extension": ".py",
   "mimetype": "text/x-python",
   "name": "python",
   "nbconvert_exporter": "python",
   "pygments_lexer": "ipython3",
   "version": "3.7.1"
  }
 },
 "nbformat": 4,
 "nbformat_minor": 2
}
